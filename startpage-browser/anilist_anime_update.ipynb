{
 "cells": [
  {
   "cell_type": "code",
   "execution_count": 338,
   "id": "18d2e0c0-3e74-47ae-bc86-44672c14bfd0",
   "metadata": {
    "execution": {
     "iopub.execute_input": "2021-04-10T10:34:21.738918Z",
     "iopub.status.busy": "2021-04-10T10:34:21.738384Z",
     "iopub.status.idle": "2021-04-10T10:34:21.749422Z",
     "shell.execute_reply": "2021-04-10T10:34:21.747450Z",
     "shell.execute_reply.started": "2021-04-10T10:34:21.738858Z"
    },
    "tags": []
   },
   "outputs": [],
   "source": [
    "from bs4 import BeautifulSoup\n",
    "import requests\n",
    "import  json\n",
    "from urllib.request import urlopen\n",
    "import sys\n",
    "import datetime\n",
    "import time"
   ]
  },
  {
   "cell_type": "code",
   "execution_count": 339,
   "id": "972fb15a-33be-4d7e-a15d-0c6336edc475",
   "metadata": {
    "execution": {
     "iopub.execute_input": "2021-04-10T10:34:22.431747Z",
     "iopub.status.busy": "2021-04-10T10:34:22.428913Z",
     "iopub.status.idle": "2021-04-10T10:34:22.458147Z",
     "shell.execute_reply": "2021-04-10T10:34:22.453956Z",
     "shell.execute_reply.started": "2021-04-10T10:34:22.431588Z"
    },
    "tags": []
   },
   "outputs": [],
   "source": [
    "def name_id(id_no):\n",
    "    query = '''\n",
    "    query ($id: Int) { # Define which variables will be used in the query (id)\n",
    "    Media (id: $id) { # Insert our variables into the query arguments (id) (type: ANIME is hard-coded in the query)\n",
    "    title {\n",
    "    romaji\n",
    "    english\n",
    "    userPreferred\n",
    "    }\n",
    "    nextAiringEpisode{\n",
    "    id\n",
    "    }\n",
    "    }\n",
    "    }\n",
    "    '''\n",
    "    variables = {\n",
    "        'id': id_no\n",
    "    }\n",
    "    url = 'https://graphql.anilist.co'\n",
    "    response = requests.post(url, json={'query': query, 'variables': variables})\n",
    "    data = response.json()\n",
    "    name=data['data']['Media']['title']['userPreferred']\n",
    "    id_for_airing=data['data']['Media']['nextAiringEpisode']['id']\n",
    "    return name,id_for_airing"
   ]
  },
  {
   "cell_type": "code",
   "execution_count": 340,
   "id": "e0b50aef-c4be-4b70-b425-7643924718fe",
   "metadata": {
    "execution": {
     "iopub.execute_input": "2021-04-10T10:34:23.106559Z",
     "iopub.status.busy": "2021-04-10T10:34:23.105259Z",
     "iopub.status.idle": "2021-04-10T10:34:23.130139Z",
     "shell.execute_reply": "2021-04-10T10:34:23.126706Z",
     "shell.execute_reply.started": "2021-04-10T10:34:23.106352Z"
    },
    "tags": []
   },
   "outputs": [],
   "source": [
    "def airing_time(id_for_airing):\n",
    "    query = '''\n",
    "    query ($id: Int) { # Define which variables will be used in the query (id)\n",
    "    AiringSchedule (id: $id) { # Insert our variables into the query arguments (id) (type: ANIME is hard-coded in the query)\n",
    "    airingAt\n",
    "    episode\n",
    "    }\n",
    "    }\n",
    "    '''\n",
    "    variables = {\n",
    "        'id': id_for_airing\n",
    "    }\n",
    "    url = 'https://graphql.anilist.co'\n",
    "    response = requests.post(url, json={'query': query, 'variables': variables})\n",
    "    data = response.json()\n",
    "    t=data['data']['AiringSchedule']['airingAt']\n",
    "    epoch=t\n",
    "    episode = data['data']['AiringSchedule']['episode']\n",
    "    airing_t=datetime.datetime.fromtimestamp(t).strftime('%a - %I:%M %p')\n",
    "    return airing_t,episode,epoch"
   ]
  },
  {
   "cell_type": "code",
   "execution_count": 344,
   "id": "472986a7-c8ed-4890-ad9c-fb8b3ee7bdf1",
   "metadata": {
    "execution": {
     "iopub.execute_input": "2021-04-10T10:53:40.093952Z",
     "iopub.status.busy": "2021-04-10T10:53:40.093317Z",
     "iopub.status.idle": "2021-04-10T10:53:40.107033Z",
     "shell.execute_reply": "2021-04-10T10:53:40.103566Z",
     "shell.execute_reply.started": "2021-04-10T10:53:40.093878Z"
    },
    "tags": []
   },
   "outputs": [],
   "source": [
    "def mahayana(l):\n",
    "    name,id_for_airing = name_id(l)\n",
    "    airing_t,episode,epoch = airing_time(id_for_airing)\n",
    "    if epoch - time.time() < 1*24*3600:\n",
    "        print(f'{name} Episode {episode} airing at {airing_t}')"
   ]
  },
  {
   "cell_type": "code",
   "execution_count": 345,
   "id": "78259776-ec72-4c4c-bd7e-981f612e57f3",
   "metadata": {
    "execution": {
     "iopub.execute_input": "2021-04-10T10:53:40.865409Z",
     "iopub.status.busy": "2021-04-10T10:53:40.864658Z",
     "iopub.status.idle": "2021-04-10T10:53:49.571064Z",
     "shell.execute_reply": "2021-04-10T10:53:49.569318Z",
     "shell.execute_reply.started": "2021-04-10T10:53:40.865321Z"
    },
    "tags": []
   },
   "outputs": [
    {
     "name": "stdout",
     "output_type": "stream",
     "text": [
      "Vivy: Fluorite Eye’s Song Episode 3 airing at Sat - 08:30 PM\n"
     ]
    }
   ],
   "source": [
    "list = [117193,114535,114232,119675,128546,114840]\n",
    "for l in list:\n",
    "    mahayana(l)"
   ]
  },
  {
   "cell_type": "code",
   "execution_count": null,
   "id": "9df3aa72-c31e-49ba-ac84-35d988c93bb9",
   "metadata": {},
   "outputs": [],
   "source": []
  }
 ],
 "metadata": {
  "kernelspec": {
   "display_name": "Python 3",
   "language": "python",
   "name": "python3"
  },
  "language_info": {
   "codemirror_mode": {
    "name": "ipython",
    "version": 3
   },
   "file_extension": ".py",
   "mimetype": "text/x-python",
   "name": "python",
   "nbconvert_exporter": "python",
   "pygments_lexer": "ipython3",
   "version": "3.9.2"
  }
 },
 "nbformat": 4,
 "nbformat_minor": 5
}
